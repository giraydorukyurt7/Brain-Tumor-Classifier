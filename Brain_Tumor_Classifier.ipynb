{
 "cells": [
  {
   "cell_type": "code",
   "execution_count": null,
   "metadata": {},
   "outputs": [],
   "source": [
    "import cv2               as cv\n",
    "import urllib\n",
    "import numpy             as np\n",
    "import pandas            as pd\n",
    "import seaborn           as sns\n",
    "import random\n",
    "import os\n",
    "import glob\n",
    "import shutil\n",
    "from imutils        import paths\n",
    "import matplotlib.pyplot as plt\n",
    "from sklearn.utils  import shuffle\n",
    "from urllib.request import urlopen\n",
    "from sklearn.decomposition import PCA\n",
    "\n",
    "import warnings\n",
    "warnings.filterwarnings(\"ignore\")\n",
    "\n",
    "from sklearn.metrics import confusion_matrix,classification_report\n",
    "from sklearn.model_selection import train_test_split\n",
    "\n",
    "import tensorflow as tf\n",
    "from tensorflow.keras.models              import Sequential\n",
    "from tensorflow.keras.preprocessing       import image\n",
    "from tensorflow.keras.utils               import to_categorical\n",
    "from tensorflow.keras.callbacks           import ModelCheckpoint,EarlyStopping\n",
    "from tensorflow.keras.layers              import Conv2D,Flatten,MaxPooling2D,Dense,Dropout,SpatialDropout2D\n",
    "from tensorflow.keras.preprocessing.image import ImageDataGenerator,img_to_array,load_img,array_to_img"
   ]
  }
 ],
 "metadata": {
  "kernelspec": {
   "display_name": "Python 3",
   "language": "python",
   "name": "python3"
  },
  "language_info": {
   "name": "python",
   "version": "3.12.6"
  }
 },
 "nbformat": 4,
 "nbformat_minor": 2
}
