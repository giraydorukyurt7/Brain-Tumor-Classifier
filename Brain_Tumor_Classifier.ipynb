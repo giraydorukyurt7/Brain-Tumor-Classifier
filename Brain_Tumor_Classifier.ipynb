{
 "cells": [
  {
   "cell_type": "code",
   "execution_count": 1,
   "metadata": {},
   "outputs": [],
   "source": [
    "import cv2               as cv\n",
    "import urllib\n",
    "import numpy             as np\n",
    "import pandas            as pd\n",
    "import seaborn           as sns\n",
    "import random\n",
    "import os\n",
    "import glob\n",
    "import shutil\n",
    "from imutils        import paths\n",
    "import matplotlib.pyplot as plt\n",
    "from sklearn.utils  import shuffle\n",
    "from urllib.request import urlopen\n",
    "from sklearn.decomposition import PCA\n",
    "\n",
    "import warnings\n",
    "warnings.filterwarnings(\"ignore\")\n",
    "\n",
    "from sklearn.metrics import confusion_matrix,classification_report\n",
    "from sklearn.model_selection import train_test_split\n",
    "\n",
    "import tensorflow as tf\n",
    "from tensorflow.keras.models              import Sequential\n",
    "from tensorflow.keras.preprocessing       import image\n",
    "from tensorflow.keras.utils               import to_categorical\n",
    "from tensorflow.keras.callbacks           import ModelCheckpoint,EarlyStopping\n",
    "from tensorflow.keras.layers              import Conv2D,Flatten,MaxPooling2D,Dense,Dropout,SpatialDropout2D\n",
    "from tensorflow.keras.preprocessing.image import ImageDataGenerator,img_to_array,load_img,array_to_img"
   ]
  },
  {
   "cell_type": "markdown",
   "metadata": {},
   "source": [
    "## 1-) Data Preparation\n",
    "\n",
    "Data Preprocessing + Data Augmentation"
   ]
  },
  {
   "cell_type": "code",
   "execution_count": 2,
   "metadata": {},
   "outputs": [],
   "source": [
    "folder_path = \"Dataset\\Dataset_nonsplit\"\n",
    "\n",
    "target_size = (240,240)\n",
    "\n",
    "labels = {\"Brain Tumor\":0,\n",
    "          \"Healthy\"    :1}"
   ]
  },
  {
   "cell_type": "code",
   "execution_count": 3,
   "metadata": {},
   "outputs": [],
   "source": [
    "import os\n",
    "import shutil\n",
    "from sklearn.model_selection import train_test_split\n",
    "#\n",
    "#Folders\n",
    "original_dataset_folder = \"Dataset\\Dataset_nonsplit\"\n",
    "base_folder = 'Dataset/Dataset_Split'\n",
    "os.makedirs(base_folder, exist_ok=True)\n",
    "#Create Folders\n",
    "train_folder = os.path.join(base_folder, 'train')\n",
    "os.makedirs(train_folder, exist_ok=True)\n",
    "test_folder = os.path.join(base_folder, 'test')\n",
    "os.makedirs(test_folder, exist_ok=True)\n",
    "#Create Class folders\n",
    "classes = os.listdir(original_dataset_folder)\n",
    "for class_ in classes:\n",
    "    os.makedirs(os.path.join(train_folder, class_), exist_ok=True)\n",
    "    os.makedirs(os.path.join(test_folder, class_), exist_ok=True)\n",
    "#Copy images\n",
    "for class_ in classes:\n",
    "    src_folder = os.path.join(original_dataset_folder, class_)\n",
    "    all_filenames = os.listdir(src_folder)\n",
    "    # 80% train - 20% test\n",
    "    train_filenames, test_filenames = train_test_split(all_filenames, test_size=0.2, random_state=42)\n",
    "    # Copy\n",
    "    for filename in train_filenames:\n",
    "        shutil.copy(os.path.join(src_folder, filename), os.path.join(train_folder, class_, filename))\n",
    "    for filename in test_filenames:\n",
    "        shutil.copy(os.path.join(src_folder, filename), os.path.join(test_folder, class_, filename))"
   ]
  },
  {
   "cell_type": "code",
   "execution_count": 3,
   "metadata": {},
   "outputs": [],
   "source": [
    "#Data augmentation is only for train set.\n",
    "train_datagen = ImageDataGenerator(rescale           =1.0/255, # Normalization\n",
    "                                   zoom_range        =0.2,     # Random zoom\n",
    "                                   width_shift_range =0.2,     # Random shift\n",
    "                                   height_shift_range=0.2,     # Random shift\n",
    "                                   validation_split  =0.125)   # 10% for validation split\n",
    "#No augmentation for test set.\n",
    "test_datagen  = ImageDataGenerator(rescale = 1.0/255)\n"
   ]
  }
 ],
 "metadata": {
  "kernelspec": {
   "display_name": "Python 3",
   "language": "python",
   "name": "python3"
  },
  "language_info": {
   "codemirror_mode": {
    "name": "ipython",
    "version": 3
   },
   "file_extension": ".py",
   "mimetype": "text/x-python",
   "name": "python",
   "nbconvert_exporter": "python",
   "pygments_lexer": "ipython3",
   "version": "3.12.6"
  }
 },
 "nbformat": 4,
 "nbformat_minor": 2
}
